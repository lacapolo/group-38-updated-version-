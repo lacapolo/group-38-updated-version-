{
 "cells": [
  {
   "cell_type": "code",
   "execution_count": null,
   "metadata": {
    "scrolled": true
   },
   "outputs": [
    {
     "name": "stdout",
     "output_type": "stream",
     "text": [
      "Welcome to our program! Hopefully this will show your studying habits and you can see how you can improve!\n"
     ]
    }
   ],
   "source": [
    "\n",
    "print(\"Welcome to our program! Hopefully this will show your studying habits and you can see how you can improve!\")\n",
    "try:\n",
    "    while True:\n",
    "        subject = input(\"Input one of the following subjects: english, math, science, history or language. Once you are done enter quit to end the program: \")\n",
    "        if subject == 'english':\n",
    "            english_assignment_list = []\n",
    "            english_assignment = input(\"Input essay, homework or studying: \")\n",
    "            english_assignment_list.append(english_assignment)\n",
    "\n",
    "            english_time_list = []\n",
    "            english_time = float(input(\"Please enter the time the assignment took in hours ex: 1, 1.5, etc : \"))\n",
    "            english_time_list.append(english_time)\n",
    "\n",
    "            english_grade_list = []\n",
    "            english_grade = int(input(\"Please enter the grade you recieved from # 0-100: \"))\n",
    "            english_grade_list.append(english_grade)\n",
    "\n",
    "\n",
    "        elif subject == 'math':\n",
    "            math_assignment_list = []\n",
    "            math_assignment = input(\"Input homework or studying: \")\n",
    "            math_assignment_list.append(math_assignment)\n",
    "\n",
    "            math_time_list = []\n",
    "            math_time = float(input(\"Please enter the time the assignment took in hours ex: 1, 1.5, etc : \"))\n",
    "            math_time_list.append(math_time)\n",
    "\n",
    "            math_grade_list = []\n",
    "            math_grade = int(input(\"Please enter the grade you recieved from # 0-100: \"))\n",
    "            math_grade_list.append(math_grade)\n",
    "\n",
    "        elif subject == 'science':\n",
    "            science_assignment_list = []\n",
    "            science_assignment = input(\"Input lab, homework or studying: \")\n",
    "            science_assignment_list.append(science_assignment)\n",
    "\n",
    "            science_time_list = []\n",
    "            science_time = float(input(\"Please enter the time the assignment took in hours ex: 1, 1.5, etc : \"))\n",
    "            science_time_list.append(science_time)\n",
    "\n",
    "            science_grade_list = []\n",
    "            science_grade = int(input(\"Please enter the grade you recieved from # 0-100: \"))\n",
    "            science_grade_list.append(science_grade)\n",
    "\n",
    "        elif subject == 'history':\n",
    "            history_assignment_list = []\n",
    "            history_assignment = input(\"Input essay, homework or studying: \")\n",
    "            history_assignment_list.append(history_grade)\n",
    "\n",
    "            history_time_list = []\n",
    "            history_time = int(input(\"Please enter the time the assignment took in hours ex: 1, 1.5, etc : \"))\n",
    "            history_time_list.append(history_time)\n",
    "\n",
    "            history_grade_list = []\n",
    "            history_grade = int(input(\"Please enter the grade you recieved from # 0-100: \"))\n",
    "            history_grade_list.append(history_grade)\n",
    "\n",
    "        elif subject == 'language':\n",
    "            language_assignment_list = []\n",
    "            language_assignment = input(\"Input essay, homework or studying: \")\n",
    "            history_assignment_list.append(history_grade)\n",
    "\n",
    "            language_time_list = []\n",
    "            language_time = float(input(\"Please enter the time the assignment took in hours ex: 1, 1.5, etc : \"))\n",
    "            lanuage_time_list.append(language_time)\n",
    "\n",
    "            language_grade_list = []\n",
    "            language_grade = int(input(\"Please enter the grade you recieved from # 0-100: \"))\n",
    "            lanuage_grade_list.append(language_grade)\n",
    "\n",
    "        else:\n",
    "            if subject == \"quit\":\n",
    "                break\n",
    "except ValueError:\n",
    "    print(\"Please enter a correct value\")"
   ]
  },
  {
   "cell_type": "code",
   "execution_count": 31,
   "metadata": {},
   "outputs": [
    {
     "name": "stdout",
     "output_type": "stream",
     "text": [
      "To see existing assignments enter the subject you would like to see: math\n",
      "   grade  time\n",
      "0     87   2.0\n"
     ]
    }
   ],
   "source": [
    "import pandas as pd\n",
    "try:\n",
    "    input_statement = input(\"To see existing assignments enter the subject you would like to see: \")\n",
    "\n",
    "    if input_statement == 'english':\n",
    "        english_info = {'assignment' :english_assignment_list, 'time' :english_time_list, 'grade' :english_grade_list}\n",
    "        english_info_df = pd.DataFrame(english_info)\n",
    "        print(english_info_df)\n",
    "\n",
    "    elif input_statement == 'math':\n",
    "            math_info = {'time' :math_time_list, 'grade' :math_grade_list}\n",
    "            math_info_df = pd.DataFrame(math_info)\n",
    "            print(math_info_df)\n",
    "\n",
    "    elif input_statement == 'science':\n",
    "            science_info = {'time' :science_time_list, 'grade' :science_grade_list}\n",
    "            science_info_df = pd.DataFrame(science_info)\n",
    "            print(science_info_df)\n",
    "\n",
    "    elif input_statement == 'history':\n",
    "        history_info = {'time' :history_time_list, 'grade' :history_grade_list}\n",
    "        history_info_df = pd.DataFrame(history_info)\n",
    "        print(history_info_df)\n",
    "\n",
    "    elif input_statement == 'language':\n",
    "        language_info = {'time' :language_time_list, 'grade' :lanuage_grade_list}\n",
    "        language_info_df = pd.DataFrame(language_info)\n",
    "        print(language_info_df)\n",
    "except ValueError:\n",
    "    print(\"Please enter a correct value\")"
   ]
  },
  {
   "cell_type": "code",
   "execution_count": null,
   "metadata": {},
   "outputs": [],
   "source": []
  }
 ],
 "metadata": {
  "kernelspec": {
   "display_name": "Python 3",
   "language": "python",
   "name": "python3"
  },
  "language_info": {
   "codemirror_mode": {
    "name": "ipython",
    "version": 3
   },
   "file_extension": ".py",
   "mimetype": "text/x-python",
   "name": "python",
   "nbconvert_exporter": "python",
   "pygments_lexer": "ipython3",
   "version": "3.6.3"
  }
 },
 "nbformat": 4,
 "nbformat_minor": 2
}
